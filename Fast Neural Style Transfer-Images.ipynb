{
 "cells": [
  {
   "cell_type": "code",
   "execution_count": 1,
   "metadata": {},
   "outputs": [],
   "source": [
    "#import libraries\n",
    "from os import listdir\n",
    "from os.path import isfile,join\n",
    "import cv2"
   ]
  },
  {
   "cell_type": "code",
   "execution_count": 5,
   "metadata": {},
   "outputs": [],
   "source": [
    "#Load Neural Transfer Models\n",
    "model_file_path='C:/Users/Dell/Desktop/Fast Neural Style models/models/'\n",
    "model_file_paths=[f for f in listdir(model_file_path) if isfile(join(model_file_path,f))]"
   ]
  },
  {
   "cell_type": "code",
   "execution_count": 6,
   "metadata": {},
   "outputs": [],
   "source": [
    "#Load Test Image\n",
    "img=cv2.imread('C:/Users/Dell/Desktop/Fast Neural Style models/images/london.jpg')\n",
    "#Load Transfer Style Model\n",
    "model=('la_muse.t7')"
   ]
  },
  {
   "cell_type": "code",
   "execution_count": 9,
   "metadata": {},
   "outputs": [
    {
     "ename": "KeyboardInterrupt",
     "evalue": "",
     "output_type": "error",
     "traceback": [
      "\u001b[1;31m---------------------------------------------------------------------------\u001b[0m",
      "\u001b[1;31mKeyboardInterrupt\u001b[0m                         Traceback (most recent call last)",
      "\u001b[1;32m<ipython-input-9-480bc36785dd>\u001b[0m in \u001b[0;36m<module>\u001b[1;34m\u001b[0m\n\u001b[0;32m     36\u001b[0m     \u001b[1;31m#cv2.imshow('Style.jpg',style)\u001b[0m\u001b[1;33m\u001b[0m\u001b[1;33m\u001b[0m\u001b[1;33m\u001b[0m\u001b[0m\n\u001b[0;32m     37\u001b[0m     \u001b[0mcv2\u001b[0m\u001b[1;33m.\u001b[0m\u001b[0mimshow\u001b[0m\u001b[1;33m(\u001b[0m\u001b[1;34m'Neural Transfer Style.jpg'\u001b[0m\u001b[1;33m,\u001b[0m\u001b[0moutput\u001b[0m\u001b[1;33m)\u001b[0m\u001b[1;33m\u001b[0m\u001b[1;33m\u001b[0m\u001b[0m\n\u001b[1;32m---> 38\u001b[1;33m     \u001b[0mcv2\u001b[0m\u001b[1;33m.\u001b[0m\u001b[0mwaitKey\u001b[0m\u001b[1;33m(\u001b[0m\u001b[1;36m0\u001b[0m\u001b[1;33m)\u001b[0m\u001b[1;33m\u001b[0m\u001b[1;33m\u001b[0m\u001b[0m\n\u001b[0m\u001b[0;32m     39\u001b[0m \u001b[1;33m\u001b[0m\u001b[0m\n\u001b[0;32m     40\u001b[0m     \u001b[1;31m#Close everything\u001b[0m\u001b[1;33m\u001b[0m\u001b[1;33m\u001b[0m\u001b[1;33m\u001b[0m\u001b[0m\n",
      "\u001b[1;31mKeyboardInterrupt\u001b[0m: "
     ]
    }
   ],
   "source": [
    "#Loop and apply each model style on our test image\n",
    "for i in model_file_paths:\n",
    "    style=cv2.imread('../styles/'+str(model)[:-3]+'.jpg')\n",
    "    \n",
    "    #Load the Neural Transfer Style Model. (dnn is deep neural network)\n",
    "    neural_style_model=cv2.dnn.readNetFromTorch(model_file_path+model)\n",
    "    \n",
    "    #resize it to fix height\n",
    "    height,width=int(img.shape[0]),int(img.shape[1])\n",
    "    new_width=int((640/height)*width)\n",
    "    resized_image=cv2.resize(img,(new_width,640),interpolation=cv2.INTER_AREA)\n",
    "    \n",
    "    #Create our blob from the image\n",
    "    #Then perform a forward run pass of the network\n",
    "    #The mean values for the Imagenet Training set are R=103.93, G=116.77 ,B=123.68\n",
    "    inp_blob=cv2.dnn.blobFromImage(resized_image,1.0,(new_width,640),(103.93,116.77,123.68),swapRB=False,crop=False)\n",
    "    neural_style_model.setInput(inp_blob)\n",
    "    output=neural_style_model.forward()\n",
    "    \n",
    "    #Reshape the output Tensor,\n",
    "    #add back the mean subtraction(de-process the thing)\n",
    "    #re-order the channels\n",
    "    output=output.reshape(3,output.shape[2],output.shape[3])\n",
    "    output[0]+=103.93\n",
    "    output[1]+=116.77\n",
    "    output[2]+=123.68\n",
    "    output/=255\n",
    "    output=output.transpose(1,2,0)\n",
    "    \n",
    "    #Display:\n",
    "    #1. Original/Test Image\n",
    "    #2. The Style of the Neural Transfer\n",
    "    #3. Our result from them\n",
    "    \n",
    "    cv2.imshow('Original.jpg',img)\n",
    "    #cv2.imshow('Style.jpg',style)\n",
    "    cv2.imshow('Neural Transfer Style.jpg',output)\n",
    "    cv2.waitKey(0)\n",
    "    \n",
    "    #Close everything\n",
    "    if cv2.waitKey(0) & 0xFF==27: #This is the escape key\n",
    "        break\n",
    "        \n",
    "#Destroy all Windows\n",
    "cv2.destroyAllWindows()"
   ]
  },
  {
   "cell_type": "code",
   "execution_count": null,
   "metadata": {},
   "outputs": [],
   "source": []
  }
 ],
 "metadata": {
  "kernelspec": {
   "display_name": "Python 3",
   "language": "python",
   "name": "python3"
  }
 },
 "nbformat": 4,
 "nbformat_minor": 2
}
